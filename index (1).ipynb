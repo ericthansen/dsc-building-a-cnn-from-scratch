{
 "cells": [
  {
   "cell_type": "markdown",
   "metadata": {},
   "source": [
    "# Building a CNN from Scratch - Lab\n",
    "\n",
    "## Introduction\n",
    "\n",
    "Now that you have background knowledge regarding how CNNs work and how to build them using Keras, its time to practice those skills a little more independently in order to build a CNN on your own to solve a image recognition problem. In this lab, you'll practice building an image classifier from start to finish using a CNN.  \n",
    "\n",
    "## Objectives\n",
    "\n",
    "In this lab you will: \n",
    "\n",
    "- Load images from a hierarchical file structure using an image datagenerator \n",
    "- Apply data augmentation to image files before training a neural network \n",
    "- Build a CNN using Keras \n",
    "- Visualize and evaluate the performance of CNN models \n",
    "\n",
    "## Loading the Images\n",
    "\n",
    "The data for this lab are a bunch of pictures of cats and dogs, and our task is to correctly classify a picture as one or the other. The [original dataset](https://www.kaggle.com/c/dogs-vs-cats) is from Kaggle. We have downsampled this dataset in order to reduce training time for you when you design and fit your model to the data. ⏰ It is anticipated that this process will take approximately one hour to run on a standard machine, although times will vary depending on your particular computer and set up. At the end of this lab, you are welcome to try training on the complete dataset and observe the impact on the model's overall accuracy. \n",
    "\n",
    "You can find the initial downsampled dataset in a subdirectory, **cats_dogs_downsampled**, of this repository. "
   ]
  },
  {
   "cell_type": "code",
   "execution_count": 1,
   "metadata": {},
   "outputs": [
    {
     "name": "stderr",
     "output_type": "stream",
     "text": [
      "2022-02-11 16:05:11.010267: W tensorflow/stream_executor/platform/default/dso_loader.cc:64] Could not load dynamic library 'libcudart.so.11.0'; dlerror: libcudart.so.11.0: cannot open shared object file: No such file or directory\n",
      "2022-02-11 16:05:11.010298: I tensorflow/stream_executor/cuda/cudart_stub.cc:29] Ignore above cudart dlerror if you do not have a GPU set up on your machine.\n"
     ]
    },
    {
     "name": "stdout",
     "output_type": "stream",
     "text": [
      "Found 2140 images belonging to 2 classes.\n",
      "Found 420 images belonging to 2 classes.\n"
     ]
    }
   ],
   "source": [
    "# Load the images; be sure to also preprocess these into tensors \n",
    "\n",
    "train_dir = 'cats_dogs_downsampled/train'\n",
    "validation_dir = 'cats_dogs_downsampled/val/'\n",
    "test_dir = 'cats_dogs_downsampled/test/' \n",
    "\n",
    "\n",
    "from keras.preprocessing.image import ImageDataGenerator\n",
    "import datetime\n",
    "\n",
    "original_start = datetime.datetime.now()\n",
    "start = datetime.datetime.now()\n",
    "\n",
    "# All images will be rescaled by 1./255\n",
    "train_datagen = ImageDataGenerator(rescale=1./255)\n",
    "val_datagen = ImageDataGenerator(rescale=1./255)\n",
    "\n",
    "train_generator = train_datagen.flow_from_directory(\n",
    "        # This is the target directory\n",
    "        train_dir,\n",
    "        # All images will be resized to 150x150\n",
    "        target_size=(150, 150),\n",
    "        batch_size=20,\n",
    "        # Since we use binary_crossentropy loss, we need binary labels\n",
    "        class_mode='binary')\n",
    "\n",
    "validation_generator = val_datagen.flow_from_directory(validation_dir,\n",
    "                                                        target_size=(150, 150),\n",
    "                                                        batch_size=20,\n",
    "                                                        class_mode='binary')"
   ]
  },
  {
   "cell_type": "markdown",
   "metadata": {},
   "source": [
    "## Designing the Model\n",
    "\n",
    "Now it's time to design your CNN using Keras! Remember a few things when doing this: \n",
    "\n",
    "- You should alternate convolutional and pooling layers\n",
    "- You should have later layers have a larger number of parameters in order to detect more abstract patterns\n",
    "- Add some final dense layers to add a classifier to the convolutional base \n",
    "- Compile this model "
   ]
  },
  {
   "cell_type": "code",
   "execution_count": 2,
   "metadata": {},
   "outputs": [
    {
     "name": "stderr",
     "output_type": "stream",
     "text": [
      "2022-02-11 16:05:12.707229: W tensorflow/stream_executor/platform/default/dso_loader.cc:64] Could not load dynamic library 'libcuda.so.1'; dlerror: libcuda.so.1: cannot open shared object file: No such file or directory\n",
      "2022-02-11 16:05:12.707258: W tensorflow/stream_executor/cuda/cuda_driver.cc:269] failed call to cuInit: UNKNOWN ERROR (303)\n",
      "2022-02-11 16:05:12.707277: I tensorflow/stream_executor/cuda/cuda_diagnostics.cc:156] kernel driver does not appear to be running on this host (jupyter-ericthansen): /proc/driver/nvidia/version does not exist\n",
      "2022-02-11 16:05:12.707480: I tensorflow/core/platform/cpu_feature_guard.cc:151] This TensorFlow binary is optimized with oneAPI Deep Neural Network Library (oneDNN) to use the following CPU instructions in performance-critical operations:  AVX2 AVX512F FMA\n",
      "To enable them in other operations, rebuild TensorFlow with the appropriate compiler flags.\n"
     ]
    }
   ],
   "source": [
    "# Your code here; design and compile the model\n",
    "from keras import layers\n",
    "from keras import models\n",
    "\n",
    "model = models.Sequential()\n",
    "model.add(layers.Conv2D(32, (3, 3), activation='relu',\n",
    "                        input_shape=(150, 150, 3)))\n",
    "model.add(layers.MaxPooling2D((2, 2)))\n",
    "model.add(layers.Conv2D(64, (3, 3), activation='relu'))\n",
    "model.add(layers.MaxPooling2D((2, 2)))\n",
    "model.add(layers.Conv2D(128, (3, 3), activation='relu'))\n",
    "model.add(layers.MaxPooling2D((2, 2)))\n",
    "model.add(layers.Conv2D(128, (3, 3), activation='relu'))\n",
    "model.add(layers.MaxPooling2D((2, 2)))\n",
    "model.add(layers.Flatten())\n",
    "model.add(layers.Dense(512, activation='relu'))\n",
    "model.add(layers.Dense(1, activation='sigmoid'))\n"
   ]
  },
  {
   "cell_type": "code",
   "execution_count": 3,
   "metadata": {},
   "outputs": [],
   "source": [
    "#from keras import optimizers\n",
    "from tensorflow.keras import optimizers\n",
    "\n",
    "model.compile(loss='binary_crossentropy',\n",
    "              optimizer=optimizers.RMSprop(learning_rate=1e-4),\n",
    "              metrics=['acc'])"
   ]
  },
  {
   "cell_type": "markdown",
   "metadata": {},
   "source": [
    "## Training and Evaluating the Model\n",
    "\n",
    "Remember that training deep networks is resource intensive: depending on the size of the data, even a CNN with 3-4 successive convolutional and pooling layers is apt to take a hours to train on a high end laptop. Using 30 epochs and 8 layers (alternating between convolutional and pooling), our model took about 40 minutes to run on a year old macbook pro.\n",
    "\n",
    "\n",
    "If you are concerned with runtime, you may want to set your model to run the training epochs overnight.  \n",
    "\n",
    "**If you are going to run this process overnight, be sure to also script code for the following questions concerning data augmentation. Check your code twice (or more) and then set the notebook to run all, or something equivalent to have them train overnight.** "
   ]
  },
  {
   "cell_type": "code",
   "execution_count": 4,
   "metadata": {},
   "outputs": [
    {
     "name": "stdout",
     "output_type": "stream",
     "text": [
      "Epoch 1/30\n",
      "100/100 [==============================] - 24s 231ms/step - loss: 0.6866 - acc: 0.5370 - val_loss: 0.6774 - val_acc: 0.5100\n",
      "Epoch 2/30\n",
      "100/100 [==============================] - 16s 163ms/step - loss: 0.6557 - acc: 0.6010 - val_loss: 0.6487 - val_acc: 0.5975\n",
      "Epoch 3/30\n",
      "100/100 [==============================] - 16s 161ms/step - loss: 0.6053 - acc: 0.6725 - val_loss: 0.6091 - val_acc: 0.6675\n",
      "Epoch 4/30\n",
      "100/100 [==============================] - 16s 164ms/step - loss: 0.5704 - acc: 0.6985 - val_loss: 0.5844 - val_acc: 0.6600\n",
      "Epoch 5/30\n",
      "100/100 [==============================] - 16s 162ms/step - loss: 0.5480 - acc: 0.7105 - val_loss: 0.6005 - val_acc: 0.6425\n",
      "Epoch 6/30\n",
      "100/100 [==============================] - 16s 160ms/step - loss: 0.5289 - acc: 0.7300 - val_loss: 0.5636 - val_acc: 0.7000\n",
      "Epoch 7/30\n",
      "100/100 [==============================] - 16s 162ms/step - loss: 0.5044 - acc: 0.7525 - val_loss: 0.5481 - val_acc: 0.7275\n",
      "Epoch 8/30\n",
      "100/100 [==============================] - 16s 160ms/step - loss: 0.4836 - acc: 0.7640 - val_loss: 0.5254 - val_acc: 0.7400\n",
      "Epoch 9/30\n",
      "100/100 [==============================] - 16s 162ms/step - loss: 0.4563 - acc: 0.7790 - val_loss: 0.5467 - val_acc: 0.7225\n",
      "Epoch 10/30\n",
      "100/100 [==============================] - 16s 161ms/step - loss: 0.4237 - acc: 0.7930 - val_loss: 0.5196 - val_acc: 0.7475\n",
      "Epoch 11/30\n",
      "100/100 [==============================] - 19s 190ms/step - loss: 0.4008 - acc: 0.8220 - val_loss: 0.5967 - val_acc: 0.7075\n",
      "Epoch 12/30\n",
      "100/100 [==============================] - 16s 164ms/step - loss: 0.3903 - acc: 0.8245 - val_loss: 0.5509 - val_acc: 0.7350\n",
      "Epoch 13/30\n",
      "100/100 [==============================] - 16s 161ms/step - loss: 0.3703 - acc: 0.8290 - val_loss: 0.4964 - val_acc: 0.7650\n",
      "Epoch 14/30\n",
      "100/100 [==============================] - 16s 161ms/step - loss: 0.3391 - acc: 0.8535 - val_loss: 0.5213 - val_acc: 0.7550\n",
      "Epoch 15/30\n",
      "100/100 [==============================] - 16s 161ms/step - loss: 0.3144 - acc: 0.8725 - val_loss: 0.4969 - val_acc: 0.7650\n",
      "Epoch 16/30\n",
      "100/100 [==============================] - 16s 163ms/step - loss: 0.2962 - acc: 0.8745 - val_loss: 0.5003 - val_acc: 0.7725\n",
      "Epoch 17/30\n",
      "100/100 [==============================] - 23s 232ms/step - loss: 0.2814 - acc: 0.8760 - val_loss: 0.5943 - val_acc: 0.7275\n",
      "Epoch 18/30\n",
      "100/100 [==============================] - 24s 237ms/step - loss: 0.2535 - acc: 0.9040 - val_loss: 0.5486 - val_acc: 0.7475\n",
      "Epoch 19/30\n",
      "100/100 [==============================] - 16s 162ms/step - loss: 0.2466 - acc: 0.8990 - val_loss: 0.5269 - val_acc: 0.7775\n",
      "Epoch 20/30\n",
      "100/100 [==============================] - 16s 161ms/step - loss: 0.2231 - acc: 0.9155 - val_loss: 0.5314 - val_acc: 0.7600\n",
      "Epoch 21/30\n",
      "100/100 [==============================] - 16s 161ms/step - loss: 0.1859 - acc: 0.9365 - val_loss: 0.5876 - val_acc: 0.7600\n",
      "Epoch 22/30\n",
      "100/100 [==============================] - 16s 161ms/step - loss: 0.1794 - acc: 0.9340 - val_loss: 0.5704 - val_acc: 0.7625\n",
      "Epoch 23/30\n",
      "100/100 [==============================] - 16s 160ms/step - loss: 0.1630 - acc: 0.9450 - val_loss: 0.5634 - val_acc: 0.7575\n",
      "Epoch 24/30\n",
      "100/100 [==============================] - 16s 160ms/step - loss: 0.1430 - acc: 0.9485 - val_loss: 0.6454 - val_acc: 0.7475\n",
      "Epoch 25/30\n",
      "100/100 [==============================] - 16s 160ms/step - loss: 0.1274 - acc: 0.9605 - val_loss: 0.6620 - val_acc: 0.7400\n",
      "Epoch 26/30\n",
      "100/100 [==============================] - 29s 294ms/step - loss: 0.1140 - acc: 0.9640 - val_loss: 0.6680 - val_acc: 0.7625\n",
      "Epoch 27/30\n",
      "100/100 [==============================] - 16s 160ms/step - loss: 0.1005 - acc: 0.9715 - val_loss: 0.6714 - val_acc: 0.7625\n",
      "Epoch 28/30\n",
      "100/100 [==============================] - 16s 164ms/step - loss: 0.0845 - acc: 0.9770 - val_loss: 0.7462 - val_acc: 0.7725\n",
      "Epoch 29/30\n",
      "100/100 [==============================] - 16s 160ms/step - loss: 0.0749 - acc: 0.9820 - val_loss: 0.7708 - val_acc: 0.7875\n",
      "Epoch 30/30\n",
      "100/100 [==============================] - 16s 160ms/step - loss: 0.0740 - acc: 0.9795 - val_loss: 0.7103 - val_acc: 0.7675\n"
     ]
    }
   ],
   "source": [
    "# Set the model to train \n",
    "# ⏰ This cell may take several minutes to run \n",
    "history = model.fit(train_generator, \n",
    "                              steps_per_epoch=100, \n",
    "                              epochs=30, \n",
    "                              validation_data=validation_generator, \n",
    "                              validation_steps=20)"
   ]
  },
  {
   "cell_type": "code",
   "execution_count": 5,
   "metadata": {},
   "outputs": [
    {
     "data": {
      "image/png": "[encoded data removed]",
      "text/plain": [
       "<Figure size 432x288 with 1 Axes>"
      ]
     },
     "metadata": {
      "needs_background": "light"
     },
     "output_type": "display_data"
    },
    {
     "data": {
      "image/png": "[encoded data removed]",
      "text/plain": [
       "<Figure size 432x288 with 1 Axes>"
      ]
     },
     "metadata": {
      "needs_background": "light"
     },
     "output_type": "display_data"
    }
   ],
   "source": [
    "# Plot history\n",
    "\n",
    "import matplotlib.pyplot as plt\n",
    "%matplotlib inline \n",
    "\n",
    "acc = history.history['acc']\n",
    "val_acc = history.history['val_acc']\n",
    "loss = history.history['loss']\n",
    "val_loss = history.history['val_loss']\n",
    "epochs = range(len(acc))\n",
    "plt.plot(epochs, acc, 'bo', label='Training acc')\n",
    "plt.plot(epochs, val_acc, 'b', label='Validation acc')\n",
    "plt.title('Training and validation accuracy')\n",
    "plt.legend()\n",
    "plt.figure()\n",
    "plt.plot(epochs, loss, 'bo', label='Training loss')\n",
    "plt.plot(epochs, val_loss, 'b', label='Validation loss')\n",
    "plt.title('Training and validation loss')\n",
    "plt.legend()\n",
    "plt.show()"
   ]
  },
  {
   "cell_type": "code",
   "execution_count": 6,
   "metadata": {},
   "outputs": [
    {
     "name": "stdout",
     "output_type": "stream",
     "text": [
      "Training took a total of 0:08:45.714035\n"
     ]
    }
   ],
   "source": [
    "end = datetime.datetime.now()\n",
    "elapsed = end - start\n",
    "print('Training took a total of {}'.format(elapsed))"
   ]
  },
  {
   "cell_type": "markdown",
   "metadata": {},
   "source": [
    "## Save the Model"
   ]
  },
  {
   "cell_type": "code",
   "execution_count": 7,
   "metadata": {},
   "outputs": [],
   "source": [
    "# Your code here; save the model for future reference \n",
    "model.save('cats_dogs_downsampled_data.h5')"
   ]
  },
  {
   "cell_type": "markdown",
   "metadata": {},
   "source": [
    "## Data Augmentation\n",
    "\n",
    "Recall that data augmentation is typically always a necessary step when using a small dataset as this one which you have been provided. As such, if you haven't already, implement a data augmentation setup.\n",
    "\n",
    "**Warning: ⏰ This process took nearly 4 hours to run on a relatively new macbook pro. As such, it is recommended that you simply code the setup and compare to the solution branch, or set the process to run overnight if you do choose to actually run the code.** "
   ]
  },
  {
   "cell_type": "code",
   "execution_count": 8,
   "metadata": {},
   "outputs": [],
   "source": [
    "start = datetime.datetime.now()"
   ]
  },
  {
   "cell_type": "code",
   "execution_count": 9,
   "metadata": {},
   "outputs": [
    {
     "name": "stdout",
     "output_type": "stream",
     "text": [
      "Found 2140 images belonging to 2 classes.\n",
      "Epoch 1/30\n",
      "100/100 [==============================] - 23s 225ms/step - loss: 0.6957 - acc: 0.6625 - val_loss: 0.4926 - val_acc: 0.7475\n",
      "Epoch 2/30\n",
      "100/100 [==============================] - 23s 227ms/step - loss: 0.5584 - acc: 0.7140 - val_loss: 0.4660 - val_acc: 0.7525\n",
      "Epoch 3/30\n",
      "100/100 [==============================] - 23s 227ms/step - loss: 0.5598 - acc: 0.7115 - val_loss: 0.5037 - val_acc: 0.7550\n",
      "Epoch 4/30\n",
      "100/100 [==============================] - 23s 226ms/step - loss: 0.5425 - acc: 0.7205 - val_loss: 0.4616 - val_acc: 0.7775\n",
      "Epoch 5/30\n",
      "100/100 [==============================] - 23s 224ms/step - loss: 0.5422 - acc: 0.7225 - val_loss: 0.4473 - val_acc: 0.8050\n",
      "Epoch 6/30\n",
      "100/100 [==============================] - 22s 224ms/step - loss: 0.5291 - acc: 0.7275 - val_loss: 0.4493 - val_acc: 0.7825\n",
      "Epoch 7/30\n",
      "100/100 [==============================] - 23s 225ms/step - loss: 0.5283 - acc: 0.7305 - val_loss: 0.4336 - val_acc: 0.8000\n",
      "Epoch 8/30\n",
      "100/100 [==============================] - 23s 226ms/step - loss: 0.5223 - acc: 0.7320 - val_loss: 0.5275 - val_acc: 0.7475\n",
      "Epoch 9/30\n",
      "100/100 [==============================] - 23s 224ms/step - loss: 0.5153 - acc: 0.7430 - val_loss: 0.4486 - val_acc: 0.7625\n",
      "Epoch 10/30\n",
      "100/100 [==============================] - 23s 226ms/step - loss: 0.5201 - acc: 0.7370 - val_loss: 0.4149 - val_acc: 0.8025\n",
      "Epoch 11/30\n",
      "100/100 [==============================] - 23s 225ms/step - loss: 0.5064 - acc: 0.7520 - val_loss: 0.4477 - val_acc: 0.7825\n",
      "Epoch 12/30\n",
      "100/100 [==============================] - 23s 228ms/step - loss: 0.5067 - acc: 0.7485 - val_loss: 0.4162 - val_acc: 0.8025\n",
      "Epoch 13/30\n",
      "100/100 [==============================] - 25s 248ms/step - loss: 0.5001 - acc: 0.7620 - val_loss: 0.4850 - val_acc: 0.7525\n",
      "Epoch 14/30\n",
      "100/100 [==============================] - 23s 225ms/step - loss: 0.5069 - acc: 0.7505 - val_loss: 0.4812 - val_acc: 0.7475\n",
      "Epoch 15/30\n",
      "100/100 [==============================] - 23s 224ms/step - loss: 0.4825 - acc: 0.7750 - val_loss: 0.5317 - val_acc: 0.7325\n",
      "Epoch 16/30\n",
      "100/100 [==============================] - 22s 224ms/step - loss: 0.4951 - acc: 0.7585 - val_loss: 0.4015 - val_acc: 0.8150\n",
      "Epoch 17/30\n",
      "100/100 [==============================] - 22s 224ms/step - loss: 0.4853 - acc: 0.7635 - val_loss: 0.4494 - val_acc: 0.7500\n",
      "Epoch 18/30\n",
      "100/100 [==============================] - 23s 225ms/step - loss: 0.4823 - acc: 0.7670 - val_loss: 0.4078 - val_acc: 0.8050\n",
      "Epoch 19/30\n",
      "100/100 [==============================] - 23s 225ms/step - loss: 0.4787 - acc: 0.7660 - val_loss: 0.4219 - val_acc: 0.8075\n",
      "Epoch 20/30\n",
      "100/100 [==============================] - 23s 226ms/step - loss: 0.4583 - acc: 0.7840 - val_loss: 0.3836 - val_acc: 0.8300\n",
      "Epoch 21/30\n",
      "100/100 [==============================] - 23s 226ms/step - loss: 0.4841 - acc: 0.7660 - val_loss: 0.4020 - val_acc: 0.8225\n",
      "Epoch 22/30\n",
      "100/100 [==============================] - 23s 228ms/step - loss: 0.4715 - acc: 0.7720 - val_loss: 0.4105 - val_acc: 0.8125\n",
      "Epoch 23/30\n",
      "100/100 [==============================] - 22s 224ms/step - loss: 0.4750 - acc: 0.7790 - val_loss: 0.4063 - val_acc: 0.7900\n",
      "Epoch 24/30\n",
      "100/100 [==============================] - 23s 225ms/step - loss: 0.4731 - acc: 0.7895 - val_loss: 0.4302 - val_acc: 0.8075\n",
      "Epoch 25/30\n",
      "100/100 [==============================] - 23s 228ms/step - loss: 0.4691 - acc: 0.7765 - val_loss: 0.3860 - val_acc: 0.8175\n",
      "Epoch 26/30\n",
      "100/100 [==============================] - 22s 224ms/step - loss: 0.4579 - acc: 0.7835 - val_loss: 0.4179 - val_acc: 0.7925\n",
      "Epoch 27/30\n",
      "100/100 [==============================] - 22s 223ms/step - loss: 0.4586 - acc: 0.7890 - val_loss: 0.3769 - val_acc: 0.8500\n",
      "Epoch 28/30\n",
      "100/100 [==============================] - 23s 226ms/step - loss: 0.4507 - acc: 0.7895 - val_loss: 0.4093 - val_acc: 0.8300\n",
      "Epoch 29/30\n",
      "100/100 [==============================] - 23s 225ms/step - loss: 0.4539 - acc: 0.7850 - val_loss: 0.3876 - val_acc: 0.8175\n",
      "Epoch 30/30\n",
      "100/100 [==============================] - 23s 226ms/step - loss: 0.4537 - acc: 0.7910 - val_loss: 0.4505 - val_acc: 0.7650\n"
     ]
    }
   ],
   "source": [
    "# Add data augmentation to the model setup and set the model to train; \n",
    "# See warnings above if you intend to run this block of code \n",
    "# ⏰ This cell may take several hours to run \n",
    "train_datagen = ImageDataGenerator(rescale=1./255,\n",
    "                                   rotation_range=40, \n",
    "                                   width_shift_range=0.2, \n",
    "                                   height_shift_range=0.2, \n",
    "                                   shear_range=0.2, \n",
    "                                   zoom_range=0.2, \n",
    "                                   horizontal_flip=True, \n",
    "                                   fill_mode='nearest')\n",
    "\n",
    "train_generator = train_datagen.flow_from_directory(\n",
    "        # This is the target directory\n",
    "        train_dir,\n",
    "        # All images will be resized to 150x150\n",
    "        target_size=(150, 150),\n",
    "        batch_size=20,\n",
    "        # Since we use binary_crossentropy loss, we need binary labels\n",
    "        class_mode='binary')\n",
    "\n",
    "history = model.fit(train_generator, \n",
    "                              steps_per_epoch=100, \n",
    "                              epochs=30, \n",
    "                              validation_data=validation_generator, \n",
    "                              validation_steps=20)"
   ]
  },
  {
   "cell_type": "markdown",
   "metadata": {},
   "source": [
    "Save the model for future reference.  "
   ]
  },
  {
   "cell_type": "code",
   "execution_count": 10,
   "metadata": {},
   "outputs": [
    {
     "data": {
      "image/png": "[encoded data removed]",
      "text/plain": [
       "<Figure size 432x288 with 1 Axes>"
      ]
     },
     "metadata": {
      "needs_background": "light"
     },
     "output_type": "display_data"
    },
    {
     "data": {
      "image/png": "[encoded data removed]",
      "text/plain": [
       "<Figure size 432x288 with 1 Axes>"
      ]
     },
     "metadata": {
      "needs_background": "light"
     },
     "output_type": "display_data"
    }
   ],
   "source": [
    "acc = history.history['acc']\n",
    "val_acc = history.history['val_acc']\n",
    "loss = history.history['loss']\n",
    "val_loss = history.history['val_loss']\n",
    "epochs = range(len(acc))\n",
    "plt.plot(epochs, acc, 'bo', label='Training acc')\n",
    "plt.plot(epochs, val_acc, 'b', label='Validation acc')\n",
    "plt.title('Training and validation accuracy')\n",
    "plt.legend()\n",
    "plt.figure()\n",
    "plt.plot(epochs, loss, 'bo', label='Training loss')\n",
    "plt.plot(epochs, val_loss, 'b', label='Validation loss')\n",
    "plt.title('Training and validation loss')\n",
    "plt.legend()\n",
    "plt.show()"
   ]
  },
  {
   "cell_type": "code",
   "execution_count": 11,
   "metadata": {},
   "outputs": [
    {
     "name": "stdout",
     "output_type": "stream",
     "text": [
      "Training with data augmentation took a total of 0:11:21.474547\n"
     ]
    }
   ],
   "source": [
    "end = datetime.datetime.now()\n",
    "elapsed = end - start\n",
    "print('Training with data augmentation took a total of {}'.format(elapsed))"
   ]
  },
  {
   "cell_type": "code",
   "execution_count": 12,
   "metadata": {},
   "outputs": [],
   "source": [
    "# Save the model \n",
    "model.save('cats_dogs_downsampled_with_augmentation_data.h5')"
   ]
  },
  {
   "cell_type": "markdown",
   "metadata": {},
   "source": [
    "## Final Evaluation\n",
    "\n",
    "Now use the test set to perform a final evaluation on your model of choice. "
   ]
  },
  {
   "cell_type": "code",
   "execution_count": 13,
   "metadata": {},
   "outputs": [
    {
     "name": "stdout",
     "output_type": "stream",
     "text": [
      "Found 425 images belonging to 2 classes.\n",
      "20/20 [==============================] - 4s 195ms/step - loss: 0.5627 - acc: 0.7525\n",
      "test acc: 0.7524999976158142\n"
     ]
    }
   ],
   "source": [
    "# Your code here \n",
    "# Perform a final evaluation using the test set\n",
    "test_datagen = ImageDataGenerator(rescale=1./255)\n",
    "\n",
    "test_generator = test_datagen.flow_from_directory(test_dir, \n",
    "                                                  target_size=(150, 150), \n",
    "                                                  batch_size=20, \n",
    "                                                  class_mode='binary')\n",
    "test_loss, test_acc = model.evaluate(test_generator, steps=20)\n",
    "print('test acc:', test_acc)"
   ]
  },
  {
   "cell_type": "markdown",
   "metadata": {},
   "source": [
    "## Summary\n",
    "\n",
    "Well done! In this lab, you practice building your own CNN for image recognition which drastically outperformed our previous attempts using a standard deep learning model alone. In the upcoming sections, we'll continue to investigate further techniques associated with CNNs including visualizing the representations they learn and techniques to further bolster their performance when we have limited training data such as here."
   ]
  }
 ],
 "metadata": {
  "kernelspec": {
   "display_name": "Python 3",
   "language": "python",
   "name": "python3"
  },
  "language_info": {
   "codemirror_mode": {
    "name": "ipython",
    "version": 3
   },
   "file_extension": ".py",
   "mimetype": "text/x-python",
   "name": "python",
   "nbconvert_exporter": "python",
   "pygments_lexer": "ipython3",
   "version": "3.9.5"
  },
  "toc": {
   "base_numbering": 1,
   "nav_menu": {},
   "number_sections": true,
   "sideBar": true,
   "skip_h1_title": false,
   "title_cell": "Table of Contents",
   "title_sidebar": "Contents",
   "toc_cell": false,
   "toc_position": {},
   "toc_section_display": true,
   "toc_window_display": false
  }
 },
 "nbformat": 4,
 "nbformat_minor": 2
}
